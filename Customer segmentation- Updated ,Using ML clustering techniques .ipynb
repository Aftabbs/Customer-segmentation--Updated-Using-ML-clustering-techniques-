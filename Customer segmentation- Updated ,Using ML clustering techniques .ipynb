{
 "cells": [
  {
   "cell_type": "markdown",
   "id": "191da62a",
   "metadata": {},
   "source": [
    "### Customer segmentation:\n",
    "Use clustering techniques to segment customers based on their demographics and purchase history."
   ]
  },
  {
   "cell_type": "markdown",
   "id": "1393f791",
   "metadata": {},
   "source": [
    "K-Means Clustering is an unsupervised learning algorithm that is used to solve the clustering problems\n",
    "in machine learning or data science. In this topic, we will learn what is K-means clustering algorithm,\n",
    "how the algorithm works, along with the Python implementation of k-means clustering."
   ]
  },
  {
   "cell_type": "markdown",
   "id": "d7181dc3",
   "metadata": {},
   "source": [
    "## Problem Statement\n",
    "\n",
    "A Mall firm in New York tracks the overall spending behaviour of all their clients. The firm has collected their data like age, gender, annual income and the spending score. The firm is interested in grouping clients with similar spending habits. It can be done using collected information regarding salary and spending score. \n",
    "The machine learning clustering algorithms can provide an analytical method to cluster clients with similar interests."
   ]
  },
  {
   "cell_type": "markdown",
   "id": "21bdaf07",
   "metadata": {},
   "source": [
    "##  Data Definition (Customer finance data)\n",
    "\n",
    "Here's a brief version of what you'll find in the data\n",
    "\n",
    "**Cust_Number**: Unique customer identification number\n",
    "\n",
    "**Yearly_Income**: Annual income of the customer\n",
    "\n",
    "**Age**: Age of the customer\n",
    "\n",
    "**Cust_Spend_Score**: Spending score of the customer\n",
    "\n",
    "**Sex**: Gender of the customer (0 = male, 1 = female)"
   ]
  },
  {
   "cell_type": "code",
   "execution_count": null,
   "id": "be9344b7",
   "metadata": {},
   "outputs": [],
   "source": []
  },
  {
   "cell_type": "code",
   "execution_count": 5,
   "id": "3d6e9bca",
   "metadata": {},
   "outputs": [],
   "source": [
    "import pandas as pd\n",
    "import numpy as np\n",
    "import matplotlib.pyplot as plt\n",
    "import seaborn as sns\n",
    "from sklearn.preprocessing import StandardScaler,LabelEncoder\n",
    "from sklearn.cluster import KMeans\n"
   ]
  },
  {
   "cell_type": "markdown",
   "id": "46a9e219",
   "metadata": {},
   "source": [
    "### EDA "
   ]
  },
  {
   "cell_type": "code",
   "execution_count": 77,
   "id": "b2a6dc51",
   "metadata": {},
   "outputs": [
    {
     "data": {
      "text/html": [
       "<div>\n",
       "<style scoped>\n",
       "    .dataframe tbody tr th:only-of-type {\n",
       "        vertical-align: middle;\n",
       "    }\n",
       "\n",
       "    .dataframe tbody tr th {\n",
       "        vertical-align: top;\n",
       "    }\n",
       "\n",
       "    .dataframe thead th {\n",
       "        text-align: right;\n",
       "    }\n",
       "</style>\n",
       "<table border=\"1\" class=\"dataframe\">\n",
       "  <thead>\n",
       "    <tr style=\"text-align: right;\">\n",
       "      <th></th>\n",
       "      <th>CustomerID</th>\n",
       "      <th>Genre</th>\n",
       "      <th>Age</th>\n",
       "      <th>Annual_Income_(k$)</th>\n",
       "      <th>Spending_Score</th>\n",
       "    </tr>\n",
       "  </thead>\n",
       "  <tbody>\n",
       "    <tr>\n",
       "      <th>0</th>\n",
       "      <td>1</td>\n",
       "      <td>Male</td>\n",
       "      <td>19</td>\n",
       "      <td>15</td>\n",
       "      <td>39</td>\n",
       "    </tr>\n",
       "    <tr>\n",
       "      <th>1</th>\n",
       "      <td>2</td>\n",
       "      <td>Male</td>\n",
       "      <td>21</td>\n",
       "      <td>15</td>\n",
       "      <td>81</td>\n",
       "    </tr>\n",
       "    <tr>\n",
       "      <th>2</th>\n",
       "      <td>3</td>\n",
       "      <td>Female</td>\n",
       "      <td>20</td>\n",
       "      <td>16</td>\n",
       "      <td>6</td>\n",
       "    </tr>\n",
       "    <tr>\n",
       "      <th>3</th>\n",
       "      <td>4</td>\n",
       "      <td>Female</td>\n",
       "      <td>23</td>\n",
       "      <td>16</td>\n",
       "      <td>77</td>\n",
       "    </tr>\n",
       "    <tr>\n",
       "      <th>4</th>\n",
       "      <td>5</td>\n",
       "      <td>Female</td>\n",
       "      <td>31</td>\n",
       "      <td>17</td>\n",
       "      <td>40</td>\n",
       "    </tr>\n",
       "  </tbody>\n",
       "</table>\n",
       "</div>"
      ],
      "text/plain": [
       "   CustomerID   Genre  Age  Annual_Income_(k$)  Spending_Score\n",
       "0           1    Male   19                  15              39\n",
       "1           2    Male   21                  15              81\n",
       "2           3  Female   20                  16               6\n",
       "3           4  Female   23                  16              77\n",
       "4           5  Female   31                  17              40"
      ]
     },
     "execution_count": 77,
     "metadata": {},
     "output_type": "execute_result"
    }
   ],
   "source": [
    "df=pd.read_csv('Mall_Customers.csv')\n",
    "df.head()"
   ]
  },
  {
   "cell_type": "code",
   "execution_count": 40,
   "id": "e6681711",
   "metadata": {},
   "outputs": [
    {
     "data": {
      "text/plain": [
       "(200, 5)"
      ]
     },
     "execution_count": 40,
     "metadata": {},
     "output_type": "execute_result"
    }
   ],
   "source": [
    "df.shape"
   ]
  },
  {
   "cell_type": "code",
   "execution_count": 41,
   "id": "4961d96c",
   "metadata": {},
   "outputs": [
    {
     "name": "stdout",
     "output_type": "stream",
     "text": [
      "<class 'pandas.core.frame.DataFrame'>\n",
      "RangeIndex: 200 entries, 0 to 199\n",
      "Data columns (total 5 columns):\n",
      " #   Column              Non-Null Count  Dtype \n",
      "---  ------              --------------  ----- \n",
      " 0   CustomerID          200 non-null    int64 \n",
      " 1   Genre               200 non-null    object\n",
      " 2   Age                 200 non-null    int64 \n",
      " 3   Annual_Income_(k$)  200 non-null    int64 \n",
      " 4   Spending_Score      200 non-null    int64 \n",
      "dtypes: int64(4), object(1)\n",
      "memory usage: 7.9+ KB\n"
     ]
    }
   ],
   "source": [
    "df.info()"
   ]
  },
  {
   "cell_type": "code",
   "execution_count": 78,
   "id": "c1a9ee30",
   "metadata": {},
   "outputs": [],
   "source": [
    "le=LabelEncoder()\n",
    "df['Genre']=le.fit_transform(df['Genre'])"
   ]
  },
  {
   "cell_type": "code",
   "execution_count": 43,
   "id": "833c6d0f",
   "metadata": {},
   "outputs": [],
   "source": [
    "df.drop(['CustomerID'],axis=1,inplace=True)"
   ]
  },
  {
   "cell_type": "code",
   "execution_count": 44,
   "id": "482bf26b",
   "metadata": {},
   "outputs": [
    {
     "data": {
      "text/html": [
       "<div>\n",
       "<style scoped>\n",
       "    .dataframe tbody tr th:only-of-type {\n",
       "        vertical-align: middle;\n",
       "    }\n",
       "\n",
       "    .dataframe tbody tr th {\n",
       "        vertical-align: top;\n",
       "    }\n",
       "\n",
       "    .dataframe thead th {\n",
       "        text-align: right;\n",
       "    }\n",
       "</style>\n",
       "<table border=\"1\" class=\"dataframe\">\n",
       "  <thead>\n",
       "    <tr style=\"text-align: right;\">\n",
       "      <th></th>\n",
       "      <th>Genre</th>\n",
       "      <th>Age</th>\n",
       "      <th>Annual_Income_(k$)</th>\n",
       "      <th>Spending_Score</th>\n",
       "    </tr>\n",
       "  </thead>\n",
       "  <tbody>\n",
       "    <tr>\n",
       "      <th>count</th>\n",
       "      <td>200.000000</td>\n",
       "      <td>200.000000</td>\n",
       "      <td>200.000000</td>\n",
       "      <td>200.000000</td>\n",
       "    </tr>\n",
       "    <tr>\n",
       "      <th>mean</th>\n",
       "      <td>0.440000</td>\n",
       "      <td>38.850000</td>\n",
       "      <td>60.560000</td>\n",
       "      <td>50.200000</td>\n",
       "    </tr>\n",
       "    <tr>\n",
       "      <th>std</th>\n",
       "      <td>0.497633</td>\n",
       "      <td>13.969007</td>\n",
       "      <td>26.264721</td>\n",
       "      <td>25.823522</td>\n",
       "    </tr>\n",
       "    <tr>\n",
       "      <th>min</th>\n",
       "      <td>0.000000</td>\n",
       "      <td>18.000000</td>\n",
       "      <td>15.000000</td>\n",
       "      <td>1.000000</td>\n",
       "    </tr>\n",
       "    <tr>\n",
       "      <th>25%</th>\n",
       "      <td>0.000000</td>\n",
       "      <td>28.750000</td>\n",
       "      <td>41.500000</td>\n",
       "      <td>34.750000</td>\n",
       "    </tr>\n",
       "    <tr>\n",
       "      <th>50%</th>\n",
       "      <td>0.000000</td>\n",
       "      <td>36.000000</td>\n",
       "      <td>61.500000</td>\n",
       "      <td>50.000000</td>\n",
       "    </tr>\n",
       "    <tr>\n",
       "      <th>75%</th>\n",
       "      <td>1.000000</td>\n",
       "      <td>49.000000</td>\n",
       "      <td>78.000000</td>\n",
       "      <td>73.000000</td>\n",
       "    </tr>\n",
       "    <tr>\n",
       "      <th>max</th>\n",
       "      <td>1.000000</td>\n",
       "      <td>70.000000</td>\n",
       "      <td>137.000000</td>\n",
       "      <td>99.000000</td>\n",
       "    </tr>\n",
       "  </tbody>\n",
       "</table>\n",
       "</div>"
      ],
      "text/plain": [
       "            Genre         Age  Annual_Income_(k$)  Spending_Score\n",
       "count  200.000000  200.000000          200.000000      200.000000\n",
       "mean     0.440000   38.850000           60.560000       50.200000\n",
       "std      0.497633   13.969007           26.264721       25.823522\n",
       "min      0.000000   18.000000           15.000000        1.000000\n",
       "25%      0.000000   28.750000           41.500000       34.750000\n",
       "50%      0.000000   36.000000           61.500000       50.000000\n",
       "75%      1.000000   49.000000           78.000000       73.000000\n",
       "max      1.000000   70.000000          137.000000       99.000000"
      ]
     },
     "execution_count": 44,
     "metadata": {},
     "output_type": "execute_result"
    }
   ],
   "source": [
    "df.describe()\n",
    "# The Mean age is 38.85 \n",
    "# Mean Annual income is 60,560 $\n"
   ]
  },
  {
   "cell_type": "code",
   "execution_count": 45,
   "id": "b1b96fd5",
   "metadata": {
    "scrolled": true
   },
   "outputs": [
    {
     "data": {
      "text/plain": [
       "<AxesSubplot:>"
      ]
     },
     "execution_count": 45,
     "metadata": {},
     "output_type": "execute_result"
    },
    {
     "data": {
      "image/png": "[encoded data removed]",
      "text/plain": [
       "<Figure size 432x288 with 1 Axes>"
      ]
     },
     "metadata": {
      "needs_background": "light"
     },
     "output_type": "display_data"
    }
   ],
   "source": [
    "df.boxplot()"
   ]
  },
  {
   "cell_type": "markdown",
   "id": "99ed1404",
   "metadata": {},
   "source": [
    "### Dropping the outliers"
   ]
  },
  {
   "cell_type": "code",
   "execution_count": 79,
   "id": "03782c27",
   "metadata": {},
   "outputs": [],
   "source": [
    "q1=df.quantile(.25)\n",
    "q3=df.quantile(.75)\n",
    "IQR=q3-q1\n",
    "ll=q1-1.5*IQR\n",
    "ul=q3+1.5*IQR\n",
    "df_n=df[~((df<ll )|(df>ul)).any(axis=1)]\n",
    "df_n=df_n.reset_index(drop=True)"
   ]
  },
  {
   "cell_type": "code",
   "execution_count": 80,
   "id": "40fe6b54",
   "metadata": {},
   "outputs": [],
   "source": [
    "df_n=df[~((df<ll )|(df>ul)).any(axis=1)]\n",
    "df_n=df_n.reset_index(drop=True)"
   ]
  },
  {
   "cell_type": "code",
   "execution_count": 81,
   "id": "05541c7c",
   "metadata": {},
   "outputs": [
    {
     "data": {
      "text/plain": [
       "(198, 5)"
      ]
     },
     "execution_count": 81,
     "metadata": {},
     "output_type": "execute_result"
    }
   ],
   "source": [
    "df_n.shape"
   ]
  },
  {
   "cell_type": "markdown",
   "id": "7ba51cc6",
   "metadata": {},
   "source": [
    "### Scaling The Data"
   ]
  },
  {
   "cell_type": "code",
   "execution_count": 49,
   "id": "00104b1e",
   "metadata": {},
   "outputs": [],
   "source": [
    "ss=StandardScaler()"
   ]
  },
  {
   "cell_type": "code",
   "execution_count": 82,
   "id": "624aec29",
   "metadata": {},
   "outputs": [],
   "source": [
    "df_n1=df_n[['Annual_Income_(k$)','Spending_Score']]"
   ]
  },
  {
   "cell_type": "code",
   "execution_count": 83,
   "id": "54dba2ab",
   "metadata": {
    "scrolled": true
   },
   "outputs": [
    {
     "data": {
      "text/html": [
       "<div>\n",
       "<style scoped>\n",
       "    .dataframe tbody tr th:only-of-type {\n",
       "        vertical-align: middle;\n",
       "    }\n",
       "\n",
       "    .dataframe tbody tr th {\n",
       "        vertical-align: top;\n",
       "    }\n",
       "\n",
       "    .dataframe thead th {\n",
       "        text-align: right;\n",
       "    }\n",
       "</style>\n",
       "<table border=\"1\" class=\"dataframe\">\n",
       "  <thead>\n",
       "    <tr style=\"text-align: right;\">\n",
       "      <th></th>\n",
       "      <th>Annual_Income_(k$)</th>\n",
       "      <th>Spending_Score</th>\n",
       "    </tr>\n",
       "  </thead>\n",
       "  <tbody>\n",
       "    <tr>\n",
       "      <th>0</th>\n",
       "      <td>-1.779171</td>\n",
       "      <td>-0.435989</td>\n",
       "    </tr>\n",
       "    <tr>\n",
       "      <th>1</th>\n",
       "      <td>-1.779171</td>\n",
       "      <td>1.199413</td>\n",
       "    </tr>\n",
       "    <tr>\n",
       "      <th>2</th>\n",
       "      <td>-1.739447</td>\n",
       "      <td>-1.720949</td>\n",
       "    </tr>\n",
       "    <tr>\n",
       "      <th>3</th>\n",
       "      <td>-1.739447</td>\n",
       "      <td>1.043661</td>\n",
       "    </tr>\n",
       "    <tr>\n",
       "      <th>4</th>\n",
       "      <td>-1.699723</td>\n",
       "      <td>-0.397051</td>\n",
       "    </tr>\n",
       "  </tbody>\n",
       "</table>\n",
       "</div>"
      ],
      "text/plain": [
       "   Annual_Income_(k$)  Spending_Score\n",
       "0           -1.779171       -0.435989\n",
       "1           -1.779171        1.199413\n",
       "2           -1.739447       -1.720949\n",
       "3           -1.739447        1.043661\n",
       "4           -1.699723       -0.397051"
      ]
     },
     "execution_count": 83,
     "metadata": {},
     "output_type": "execute_result"
    }
   ],
   "source": [
    "# Scaling done on Required Columns\n",
    "x=ss.fit_transform(df_n1)\n",
    "x=pd.DataFrame(x,columns=['Annual_Income_(k$)','Spending_Score'])\n",
    "x.head()"
   ]
  },
  {
   "cell_type": "code",
   "execution_count": 84,
   "id": "a11a8ce7",
   "metadata": {},
   "outputs": [
    {
     "data": {
      "text/html": [
       "<div>\n",
       "<style scoped>\n",
       "    .dataframe tbody tr th:only-of-type {\n",
       "        vertical-align: middle;\n",
       "    }\n",
       "\n",
       "    .dataframe tbody tr th {\n",
       "        vertical-align: top;\n",
       "    }\n",
       "\n",
       "    .dataframe thead th {\n",
       "        text-align: right;\n",
       "    }\n",
       "</style>\n",
       "<table border=\"1\" class=\"dataframe\">\n",
       "  <thead>\n",
       "    <tr style=\"text-align: right;\">\n",
       "      <th></th>\n",
       "      <th>CustomerID</th>\n",
       "      <th>Genre</th>\n",
       "      <th>Age</th>\n",
       "      <th>Annual_Income_(k$)</th>\n",
       "      <th>Spending_Score</th>\n",
       "    </tr>\n",
       "  </thead>\n",
       "  <tbody>\n",
       "    <tr>\n",
       "      <th>0</th>\n",
       "      <td>1</td>\n",
       "      <td>1</td>\n",
       "      <td>19</td>\n",
       "      <td>15</td>\n",
       "      <td>39</td>\n",
       "    </tr>\n",
       "    <tr>\n",
       "      <th>74</th>\n",
       "      <td>75</td>\n",
       "      <td>1</td>\n",
       "      <td>59</td>\n",
       "      <td>54</td>\n",
       "      <td>47</td>\n",
       "    </tr>\n",
       "    <tr>\n",
       "      <th>120</th>\n",
       "      <td>121</td>\n",
       "      <td>1</td>\n",
       "      <td>27</td>\n",
       "      <td>67</td>\n",
       "      <td>56</td>\n",
       "    </tr>\n",
       "  </tbody>\n",
       "</table>\n",
       "</div>"
      ],
      "text/plain": [
       "     CustomerID  Genre  Age  Annual_Income_(k$)  Spending_Score\n",
       "0             1      1   19                  15              39\n",
       "74           75      1   59                  54              47\n",
       "120         121      1   27                  67              56"
      ]
     },
     "execution_count": 84,
     "metadata": {},
     "output_type": "execute_result"
    }
   ],
   "source": [
    "df_n.sample(3)"
   ]
  },
  {
   "cell_type": "markdown",
   "id": "52829f98",
   "metadata": {},
   "source": [
    "### Selecting the optimal Cluster Value"
   ]
  },
  {
   "cell_type": "code",
   "execution_count": 85,
   "id": "579274a3",
   "metadata": {},
   "outputs": [
    {
     "name": "stderr",
     "output_type": "stream",
     "text": [
      "C:\\ProgramData\\Anaconda3\\lib\\site-packages\\sklearn\\cluster\\_kmeans.py:1036: UserWarning: KMeans is known to have a memory leak on Windows with MKL, when there are less chunks than available threads. You can avoid it by setting the environment variable OMP_NUM_THREADS=1.\n",
      "  warnings.warn(\n"
     ]
    }
   ],
   "source": [
    "wcss=[]\n",
    "for i in range(1,11):\n",
    "    km=KMeans(n_clusters=i)\n",
    "    km.fit_predict(x)\n",
    "    wcss.append(km.inertia_)"
   ]
  },
  {
   "cell_type": "markdown",
   "id": "9e592934",
   "metadata": {},
   "source": [
    "### plotting a  Elbow plot will help us decide how many clusters to Decide"
   ]
  },
  {
   "cell_type": "code",
   "execution_count": 86,
   "id": "445e806b",
   "metadata": {
    "scrolled": true
   },
   "outputs": [
    {
     "data": {
      "image/png": "[encoded data removed]",
      "text/plain": [
       "<Figure size 432x288 with 1 Axes>"
      ]
     },
     "metadata": {
      "needs_background": "light"
     },
     "output_type": "display_data"
    }
   ],
   "source": [
    "plt.plot(range(1,11),wcss)\n",
    "plt.axvline(5,color='r')\n",
    "plt.show()"
   ]
  },
  {
   "cell_type": "code",
   "execution_count": null,
   "id": "869cf61b",
   "metadata": {},
   "outputs": [],
   "source": [
    "# Even Silhoutte score can be used to find the optimal value for clusters"
   ]
  },
  {
   "cell_type": "code",
   "execution_count": 68,
   "id": "9600759a",
   "metadata": {},
   "outputs": [],
   "source": [
    "from sklearn.metrics import silhouette_score,silhouette_samples\n",
    "import matplotlib.cm as cm"
   ]
  },
  {
   "cell_type": "code",
   "execution_count": 87,
   "id": "00b09eea",
   "metadata": {},
   "outputs": [
    {
     "name": "stdout",
     "output_type": "stream",
     "text": [
      "For 2 clusters the silhouette score is 0.3034062975427352)\n",
      "For 3 clusters the silhouette score is 0.4667041091037676)\n",
      "For 4 clusters the silhouette score is 0.4966903984217057)\n",
      "For 5 clusters the silhouette score is 0.5599199830769206)\n",
      "For 6 clusters the silhouette score is 0.5401295190538672)\n"
     ]
    }
   ],
   "source": [
    "# create a list for different values of K\n",
    "n_clusters = [2, 3, 4, 5, 6]\n",
    "\n",
    "# use 'for' loop to build the clusters\n",
    "# 'random_state' returns the same sample each time you run the code  \n",
    "# fit and predict on the scaled data\n",
    "# 'silhouette_score' function computes the silhouette score for each K\n",
    "for K in n_clusters:\n",
    "    cluster = KMeans (n_clusters= K, random_state= 10)\n",
    "    predict = cluster.fit_predict(x)\n",
    "    score = silhouette_score(x, predict, random_state= 10)\n",
    "    print (\"For {} clusters the silhouette score is {})\".format(K, score))\n",
    "    \n",
    "# The max value will be the best cluster to select     "
   ]
  },
  {
   "cell_type": "markdown",
   "id": "7e366459",
   "metadata": {},
   "source": [
    "visualise the Silhoutte Score"
   ]
  },
  {
   "cell_type": "code",
   "execution_count": 69,
   "id": "27480193",
   "metadata": {},
   "outputs": [
    {
     "data": {
      "image/png": "[encoded data removed]",
      "text/plain": [
       "<Figure size 1296x504 with 2 Axes>"
      ]
     },
     "metadata": {
      "needs_background": "light"
     },
     "output_type": "display_data"
    },
    {
     "data": {
      "image/png": "[encoded data removed]",
      "text/plain": [
       "<Figure size 1296x504 with 2 Axes>"
      ]
     },
     "metadata": {
      "needs_background": "light"
     },
     "output_type": "display_data"
    },
    {
     "data": {
      "image/png": "[encoded data removed]",
      "text/plain": [
       "<Figure size 1296x504 with 2 Axes>"
      ]
     },
     "metadata": {
      "needs_background": "light"
     },
     "output_type": "display_data"
    },
    {
     "data": {
      "image/png": "[encoded data removed]",
      "text/plain": [
       "<Figure size 1296x504 with 2 Axes>"
      ]
     },
     "metadata": {
      "needs_background": "light"
     },
     "output_type": "display_data"
    },
    {
     "data": {
      "image/png": "[encoded data removed]",
      "text/plain": [
       "<Figure size 1296x504 with 2 Axes>"
      ]
     },
     "metadata": {
      "needs_background": "light"
     },
     "output_type": "display_data"
    }
   ],
   "source": [
    "n_clusters = [2, 3, 4, 5, 6]\n",
    "\n",
    "X = np.array(x)\n",
    "\n",
    "for K in n_clusters:\n",
    "    \n",
    "    fig, (ax1, ax2) = plt.subplots(1, 2)\n",
    "    \n",
    "    fig.set_size_inches(18, 7)\n",
    "\n",
    "    model = KMeans(n_clusters = K, random_state = 10)\n",
    "    \n",
    "    cluster_labels = model.fit_predict(X)\n",
    "\n",
    "    silhouette_avg = silhouette_score(X, cluster_labels)\n",
    "    \n",
    "    sample_silhouette_values = silhouette_samples(X, cluster_labels)\n",
    "\n",
    "    y_lower = 10\n",
    "    for i in range(K):\n",
    "        \n",
    "        ith_cluster_silhouette_values = sample_silhouette_values[cluster_labels == i]\n",
    "        \n",
    "        ith_cluster_silhouette_values.sort()\n",
    "        \n",
    "        size_cluster_i = ith_cluster_silhouette_values.shape[0]\n",
    "        y_upper = y_lower + size_cluster_i\n",
    "\n",
    "        # color each cluster \n",
    "        color = cm.nipy_spectral(float(i) / K)\n",
    "        ax1.fill_betweenx(np.arange(y_lower, y_upper),\n",
    "                          0, ith_cluster_silhouette_values,\n",
    "                          facecolor=color, edgecolor=color, alpha=0.7)\n",
    "\n",
    "        ax1.text(-0.05, y_lower + 0.5 * size_cluster_i, str(i))\n",
    "\n",
    "        y_lower = y_upper + 10 \n",
    "\n",
    "    ax1.set_title(\"Silhouette Plot\")\n",
    "    ax1.set_xlabel(\"Silhouette coefficient\")\n",
    "    ax1.set_ylabel(\"Cluster label\")\n",
    "\n",
    "    ax1.axvline(x=silhouette_avg, color=\"red\", linestyle=\"--\")\n",
    "\n",
    "    ax1.set_yticks([])  \n",
    "    \n",
    "    ax1.set_xticks([-0.1, 0, 0.2, 0.4, 0.6, 0.8])\n",
    "\n",
    "    \n",
    " \n",
    "    colors = cm.nipy_spectral(cluster_labels.astype(float) / K)\n",
    "    \n",
    "    ax2.scatter(X[:, 0], X[:, 1], marker='.', s=30, lw=0, alpha=0.7, c=colors, edgecolor='k')\n",
    "\n",
    "    # label the cluster centers\n",
    "    centers = model.cluster_centers_\n",
    "    \n",
    "    for i, c in enumerate(centers):\n",
    "        ax2.scatter(c[0], c[1], marker='$%d$' % i, alpha=1, s=50, edgecolor='k')\n",
    "    \n",
    "    ax2.set_title(\"Clusters\")\n",
    "    ax2.set_xlabel(\"Spending Score\")\n",
    "    ax2.set_ylabel(\"Annual Income\")\n",
    "    \n",
    "    plt.suptitle((\"Silhouette Analysis for K-Means Clustering with n_clusters = %d\" % K), fontsize=14, \n",
    "                 fontweight='bold')\n",
    "\n",
    "# display the plot\n",
    "plt.show()"
   ]
  },
  {
   "cell_type": "markdown",
   "id": "6ac07749",
   "metadata": {},
   "source": [
    "* The elbow and silhouute score both infer that  5  clusters are good enough"
   ]
  },
  {
   "cell_type": "markdown",
   "id": "47304ad9",
   "metadata": {},
   "source": [
    "lets create a Instance for KMeans"
   ]
  },
  {
   "cell_type": "code",
   "execution_count": 98,
   "id": "b7c4f290",
   "metadata": {},
   "outputs": [],
   "source": [
    "df=pd.read_csv(\"Mall_Customers.csv\")\n"
   ]
  },
  {
   "cell_type": "code",
   "execution_count": 99,
   "id": "0c5167fd",
   "metadata": {},
   "outputs": [
    {
     "name": "stderr",
     "output_type": "stream",
     "text": [
      "C:\\Users\\Admin\\AppData\\Local\\Temp\\ipykernel_10940\\2610395025.py:6: FutureWarning: Automatic reindexing on DataFrame vs Series comparisons is deprecated and will raise ValueError in a future version. Do `left, right = left.align(right, axis=1, copy=False)` before e.g. `left == right`\n",
      "  df_new=df[~((df<ll )|(df>ul)).any(axis=1)]\n"
     ]
    }
   ],
   "source": [
    "q1=df.quantile(.25)\n",
    "q3=df.quantile(.75)\n",
    "IQR=q3-q1\n",
    "ll=q1-1.5*IQR\n",
    "ul=q3+1.5*IQR\n",
    "df_new=df[~((df<ll )|(df>ul)).any(axis=1)]\n",
    "df_new=df_n.reset_index(drop=True)"
   ]
  },
  {
   "cell_type": "code",
   "execution_count": 100,
   "id": "42407d1a",
   "metadata": {},
   "outputs": [],
   "source": [
    "X_fil=df_new[['Annual_Income_(k$)','Spending_Score']]"
   ]
  },
  {
   "cell_type": "code",
   "execution_count": 101,
   "id": "d9ff1101",
   "metadata": {},
   "outputs": [],
   "source": [
    "X_fil=ss.fit_transform(X_fil)"
   ]
  },
  {
   "cell_type": "code",
   "execution_count": 102,
   "id": "fd26a4b7",
   "metadata": {},
   "outputs": [],
   "source": [
    "mod=KMeans(n_clusters=5,random_state=10)\n",
    "mod.fit_predict(X_fil)\n",
    "df_new['Cluster']=mod.labels_"
   ]
  },
  {
   "cell_type": "code",
   "execution_count": 103,
   "id": "b6a0e509",
   "metadata": {},
   "outputs": [
    {
     "data": {
      "text/html": [
       "<div>\n",
       "<style scoped>\n",
       "    .dataframe tbody tr th:only-of-type {\n",
       "        vertical-align: middle;\n",
       "    }\n",
       "\n",
       "    .dataframe tbody tr th {\n",
       "        vertical-align: top;\n",
       "    }\n",
       "\n",
       "    .dataframe thead th {\n",
       "        text-align: right;\n",
       "    }\n",
       "</style>\n",
       "<table border=\"1\" class=\"dataframe\">\n",
       "  <thead>\n",
       "    <tr style=\"text-align: right;\">\n",
       "      <th></th>\n",
       "      <th>CustomerID</th>\n",
       "      <th>Genre</th>\n",
       "      <th>Age</th>\n",
       "      <th>Annual_Income_(k$)</th>\n",
       "      <th>Spending_Score</th>\n",
       "      <th>Cluster</th>\n",
       "    </tr>\n",
       "  </thead>\n",
       "  <tbody>\n",
       "    <tr>\n",
       "      <th>0</th>\n",
       "      <td>1</td>\n",
       "      <td>1</td>\n",
       "      <td>19</td>\n",
       "      <td>15</td>\n",
       "      <td>39</td>\n",
       "      <td>4</td>\n",
       "    </tr>\n",
       "    <tr>\n",
       "      <th>1</th>\n",
       "      <td>2</td>\n",
       "      <td>1</td>\n",
       "      <td>21</td>\n",
       "      <td>15</td>\n",
       "      <td>81</td>\n",
       "      <td>0</td>\n",
       "    </tr>\n",
       "    <tr>\n",
       "      <th>2</th>\n",
       "      <td>3</td>\n",
       "      <td>0</td>\n",
       "      <td>20</td>\n",
       "      <td>16</td>\n",
       "      <td>6</td>\n",
       "      <td>4</td>\n",
       "    </tr>\n",
       "    <tr>\n",
       "      <th>3</th>\n",
       "      <td>4</td>\n",
       "      <td>0</td>\n",
       "      <td>23</td>\n",
       "      <td>16</td>\n",
       "      <td>77</td>\n",
       "      <td>0</td>\n",
       "    </tr>\n",
       "    <tr>\n",
       "      <th>4</th>\n",
       "      <td>5</td>\n",
       "      <td>0</td>\n",
       "      <td>31</td>\n",
       "      <td>17</td>\n",
       "      <td>40</td>\n",
       "      <td>4</td>\n",
       "    </tr>\n",
       "  </tbody>\n",
       "</table>\n",
       "</div>"
      ],
      "text/plain": [
       "   CustomerID  Genre  Age  Annual_Income_(k$)  Spending_Score  Cluster\n",
       "0           1      1   19                  15              39        4\n",
       "1           2      1   21                  15              81        0\n",
       "2           3      0   20                  16               6        4\n",
       "3           4      0   23                  16              77        0\n",
       "4           5      0   31                  17              40        4"
      ]
     },
     "execution_count": 103,
     "metadata": {},
     "output_type": "execute_result"
    }
   ],
   "source": [
    "df_new.head()"
   ]
  },
  {
   "cell_type": "code",
   "execution_count": 104,
   "id": "d96b7625",
   "metadata": {},
   "outputs": [
    {
     "data": {
      "text/plain": [
       "1    80\n",
       "3    38\n",
       "2    35\n",
       "4    23\n",
       "0    22\n",
       "Name: Cluster, dtype: int64"
      ]
     },
     "execution_count": 104,
     "metadata": {},
     "output_type": "execute_result"
    }
   ],
   "source": [
    "df_new['Cluster'].value_counts()"
   ]
  },
  {
   "cell_type": "markdown",
   "id": "61e0e106",
   "metadata": {},
   "source": [
    "# Visualise the count of CLusters"
   ]
  },
  {
   "cell_type": "code",
   "execution_count": 114,
   "id": "93cce50e",
   "metadata": {},
   "outputs": [
    {
     "data": {
      "image/png": "[encoded data removed]",
      "text/plain": [
       "<Figure size 432x288 with 1 Axes>"
      ]
     },
     "metadata": {
      "needs_background": "light"
     },
     "output_type": "display_data"
    }
   ],
   "source": [
    "sns.countplot(data= df_new, x = 'Cluster')\n",
    "\n",
    "\n",
    "plt.title('Size of Cluster', fontsize = 15)\n",
    "plt.xlabel('Clusters', fontsize = 15)\n",
    "plt.ylabel('Number of Customers', fontsize = 15)\n",
    "\n",
    "plt.text(x = -0.05, y =23, s = np.unique(mod.labels_, return_counts=True)[1][0])\n",
    "plt.text(x = 0.95, y =80, s = np.unique(mod.labels_, return_counts=True)[1][1])\n",
    "plt.text(x = 1.95, y =35, s = np.unique(mod.labels_, return_counts=True)[1][2])\n",
    "plt.text(x = 2.95, y =38, s = np.unique(mod.labels_, return_counts=True)[1][3])\n",
    "plt.text(x = 3.95, y =23, s = np.unique(mod.labels_, return_counts=True)[1][4])\n",
    "\n",
    "# display the plot\n",
    "plt.show()"
   ]
  },
  {
   "cell_type": "markdown",
   "id": "a7a5049e",
   "metadata": {},
   "source": [
    "### Analyse Each Cluster"
   ]
  },
  {
   "cell_type": "code",
   "execution_count": 115,
   "id": "24d3074e",
   "metadata": {
    "scrolled": false
   },
   "outputs": [
    {
     "data": {
      "text/html": [
       "<div>\n",
       "<style scoped>\n",
       "    .dataframe tbody tr th:only-of-type {\n",
       "        vertical-align: middle;\n",
       "    }\n",
       "\n",
       "    .dataframe tbody tr th {\n",
       "        vertical-align: top;\n",
       "    }\n",
       "\n",
       "    .dataframe thead th {\n",
       "        text-align: right;\n",
       "    }\n",
       "</style>\n",
       "<table border=\"1\" class=\"dataframe\">\n",
       "  <thead>\n",
       "    <tr style=\"text-align: right;\">\n",
       "      <th></th>\n",
       "      <th>CustomerID</th>\n",
       "      <th>Genre</th>\n",
       "      <th>Age</th>\n",
       "      <th>Annual_Income_(k$)</th>\n",
       "      <th>Spending_Score</th>\n",
       "      <th>Cluster</th>\n",
       "    </tr>\n",
       "  </thead>\n",
       "  <tbody>\n",
       "    <tr>\n",
       "      <th>count</th>\n",
       "      <td>22.000000</td>\n",
       "      <td>22.000000</td>\n",
       "      <td>22.000000</td>\n",
       "      <td>22.000000</td>\n",
       "      <td>22.000000</td>\n",
       "      <td>22.0</td>\n",
       "    </tr>\n",
       "    <tr>\n",
       "      <th>mean</th>\n",
       "      <td>23.090909</td>\n",
       "      <td>0.409091</td>\n",
       "      <td>25.272727</td>\n",
       "      <td>25.727273</td>\n",
       "      <td>79.363636</td>\n",
       "      <td>0.0</td>\n",
       "    </tr>\n",
       "    <tr>\n",
       "      <th>std</th>\n",
       "      <td>13.147185</td>\n",
       "      <td>0.503236</td>\n",
       "      <td>5.257030</td>\n",
       "      <td>7.566731</td>\n",
       "      <td>10.504174</td>\n",
       "      <td>0.0</td>\n",
       "    </tr>\n",
       "    <tr>\n",
       "      <th>min</th>\n",
       "      <td>2.000000</td>\n",
       "      <td>0.000000</td>\n",
       "      <td>18.000000</td>\n",
       "      <td>15.000000</td>\n",
       "      <td>61.000000</td>\n",
       "      <td>0.0</td>\n",
       "    </tr>\n",
       "    <tr>\n",
       "      <th>25%</th>\n",
       "      <td>12.500000</td>\n",
       "      <td>0.000000</td>\n",
       "      <td>21.250000</td>\n",
       "      <td>19.250000</td>\n",
       "      <td>73.000000</td>\n",
       "      <td>0.0</td>\n",
       "    </tr>\n",
       "    <tr>\n",
       "      <th>50%</th>\n",
       "      <td>23.000000</td>\n",
       "      <td>0.000000</td>\n",
       "      <td>23.500000</td>\n",
       "      <td>24.500000</td>\n",
       "      <td>77.000000</td>\n",
       "      <td>0.0</td>\n",
       "    </tr>\n",
       "    <tr>\n",
       "      <th>75%</th>\n",
       "      <td>33.500000</td>\n",
       "      <td>1.000000</td>\n",
       "      <td>29.750000</td>\n",
       "      <td>32.250000</td>\n",
       "      <td>85.750000</td>\n",
       "      <td>0.0</td>\n",
       "    </tr>\n",
       "    <tr>\n",
       "      <th>max</th>\n",
       "      <td>46.000000</td>\n",
       "      <td>1.000000</td>\n",
       "      <td>35.000000</td>\n",
       "      <td>39.000000</td>\n",
       "      <td>99.000000</td>\n",
       "      <td>0.0</td>\n",
       "    </tr>\n",
       "  </tbody>\n",
       "</table>\n",
       "</div>"
      ],
      "text/plain": [
       "       CustomerID      Genre        Age  Annual_Income_(k$)  Spending_Score  \\\n",
       "count   22.000000  22.000000  22.000000           22.000000       22.000000   \n",
       "mean    23.090909   0.409091  25.272727           25.727273       79.363636   \n",
       "std     13.147185   0.503236   5.257030            7.566731       10.504174   \n",
       "min      2.000000   0.000000  18.000000           15.000000       61.000000   \n",
       "25%     12.500000   0.000000  21.250000           19.250000       73.000000   \n",
       "50%     23.000000   0.000000  23.500000           24.500000       77.000000   \n",
       "75%     33.500000   1.000000  29.750000           32.250000       85.750000   \n",
       "max     46.000000   1.000000  35.000000           39.000000       99.000000   \n",
       "\n",
       "       Cluster  \n",
       "count     22.0  \n",
       "mean       0.0  \n",
       "std        0.0  \n",
       "min        0.0  \n",
       "25%        0.0  \n",
       "50%        0.0  \n",
       "75%        0.0  \n",
       "max        0.0  "
      ]
     },
     "execution_count": 115,
     "metadata": {},
     "output_type": "execute_result"
    }
   ],
   "source": [
    "df_new[df_new['Cluster']==0].describe()"
   ]
  },
  {
   "cell_type": "markdown",
   "id": "c21e68f1",
   "metadata": {},
   "source": [
    "**Interpretation**\n",
    "in the 0th CLuster  the Avg Annual income is 25.7k$ and their avg Spending score is 79.36\n",
    "and 22 people belong to this category \n"
   ]
  },
  {
   "cell_type": "code",
   "execution_count": 116,
   "id": "7ece32fc",
   "metadata": {},
   "outputs": [
    {
     "data": {
      "text/html": [
       "<div>\n",
       "<style scoped>\n",
       "    .dataframe tbody tr th:only-of-type {\n",
       "        vertical-align: middle;\n",
       "    }\n",
       "\n",
       "    .dataframe tbody tr th {\n",
       "        vertical-align: top;\n",
       "    }\n",
       "\n",
       "    .dataframe thead th {\n",
       "        text-align: right;\n",
       "    }\n",
       "</style>\n",
       "<table border=\"1\" class=\"dataframe\">\n",
       "  <thead>\n",
       "    <tr style=\"text-align: right;\">\n",
       "      <th></th>\n",
       "      <th>CustomerID</th>\n",
       "      <th>Genre</th>\n",
       "      <th>Age</th>\n",
       "      <th>Annual_Income_(k$)</th>\n",
       "      <th>Spending_Score</th>\n",
       "      <th>Cluster</th>\n",
       "    </tr>\n",
       "  </thead>\n",
       "  <tbody>\n",
       "    <tr>\n",
       "      <th>count</th>\n",
       "      <td>80.000000</td>\n",
       "      <td>80.00000</td>\n",
       "      <td>80.00000</td>\n",
       "      <td>80.000000</td>\n",
       "      <td>80.000000</td>\n",
       "      <td>80.0</td>\n",
       "    </tr>\n",
       "    <tr>\n",
       "      <th>mean</th>\n",
       "      <td>85.737500</td>\n",
       "      <td>0.41250</td>\n",
       "      <td>42.93750</td>\n",
       "      <td>55.087500</td>\n",
       "      <td>49.712500</td>\n",
       "      <td>1.0</td>\n",
       "    </tr>\n",
       "    <tr>\n",
       "      <th>std</th>\n",
       "      <td>23.814549</td>\n",
       "      <td>0.49539</td>\n",
       "      <td>16.42963</td>\n",
       "      <td>8.844928</td>\n",
       "      <td>6.332943</td>\n",
       "      <td>0.0</td>\n",
       "    </tr>\n",
       "    <tr>\n",
       "      <th>min</th>\n",
       "      <td>44.000000</td>\n",
       "      <td>0.00000</td>\n",
       "      <td>18.00000</td>\n",
       "      <td>39.000000</td>\n",
       "      <td>35.000000</td>\n",
       "      <td>1.0</td>\n",
       "    </tr>\n",
       "    <tr>\n",
       "      <th>25%</th>\n",
       "      <td>65.750000</td>\n",
       "      <td>0.00000</td>\n",
       "      <td>27.00000</td>\n",
       "      <td>48.000000</td>\n",
       "      <td>44.750000</td>\n",
       "      <td>1.0</td>\n",
       "    </tr>\n",
       "    <tr>\n",
       "      <th>50%</th>\n",
       "      <td>85.500000</td>\n",
       "      <td>0.00000</td>\n",
       "      <td>46.50000</td>\n",
       "      <td>54.000000</td>\n",
       "      <td>50.000000</td>\n",
       "      <td>1.0</td>\n",
       "    </tr>\n",
       "    <tr>\n",
       "      <th>75%</th>\n",
       "      <td>105.250000</td>\n",
       "      <td>1.00000</td>\n",
       "      <td>54.25000</td>\n",
       "      <td>62.000000</td>\n",
       "      <td>55.000000</td>\n",
       "      <td>1.0</td>\n",
       "    </tr>\n",
       "    <tr>\n",
       "      <th>max</th>\n",
       "      <td>143.000000</td>\n",
       "      <td>1.00000</td>\n",
       "      <td>70.00000</td>\n",
       "      <td>76.000000</td>\n",
       "      <td>61.000000</td>\n",
       "      <td>1.0</td>\n",
       "    </tr>\n",
       "  </tbody>\n",
       "</table>\n",
       "</div>"
      ],
      "text/plain": [
       "       CustomerID     Genre       Age  Annual_Income_(k$)  Spending_Score  \\\n",
       "count   80.000000  80.00000  80.00000           80.000000       80.000000   \n",
       "mean    85.737500   0.41250  42.93750           55.087500       49.712500   \n",
       "std     23.814549   0.49539  16.42963            8.844928        6.332943   \n",
       "min     44.000000   0.00000  18.00000           39.000000       35.000000   \n",
       "25%     65.750000   0.00000  27.00000           48.000000       44.750000   \n",
       "50%     85.500000   0.00000  46.50000           54.000000       50.000000   \n",
       "75%    105.250000   1.00000  54.25000           62.000000       55.000000   \n",
       "max    143.000000   1.00000  70.00000           76.000000       61.000000   \n",
       "\n",
       "       Cluster  \n",
       "count     80.0  \n",
       "mean       1.0  \n",
       "std        0.0  \n",
       "min        1.0  \n",
       "25%        1.0  \n",
       "50%        1.0  \n",
       "75%        1.0  \n",
       "max        1.0  "
      ]
     },
     "execution_count": 116,
     "metadata": {},
     "output_type": "execute_result"
    }
   ],
   "source": [
    "df_new[df_new['Cluster']==1].describe()"
   ]
  },
  {
   "cell_type": "markdown",
   "id": "34da9221",
   "metadata": {},
   "source": [
    "**Interpretation**\n",
    "in the 1st Cluster  the Avg Annual income is 55.08k$ and their avg Spending score is 49.36\n",
    "and 80 people belong to this category \n"
   ]
  },
  {
   "cell_type": "code",
   "execution_count": 117,
   "id": "77b55fa8",
   "metadata": {},
   "outputs": [
    {
     "data": {
      "text/html": [
       "<div>\n",
       "<style scoped>\n",
       "    .dataframe tbody tr th:only-of-type {\n",
       "        vertical-align: middle;\n",
       "    }\n",
       "\n",
       "    .dataframe tbody tr th {\n",
       "        vertical-align: top;\n",
       "    }\n",
       "\n",
       "    .dataframe thead th {\n",
       "        text-align: right;\n",
       "    }\n",
       "</style>\n",
       "<table border=\"1\" class=\"dataframe\">\n",
       "  <thead>\n",
       "    <tr style=\"text-align: right;\">\n",
       "      <th></th>\n",
       "      <th>CustomerID</th>\n",
       "      <th>Genre</th>\n",
       "      <th>Age</th>\n",
       "      <th>Annual_Income_(k$)</th>\n",
       "      <th>Spending_Score</th>\n",
       "      <th>Cluster</th>\n",
       "    </tr>\n",
       "  </thead>\n",
       "  <tbody>\n",
       "    <tr>\n",
       "      <th>count</th>\n",
       "      <td>35.000000</td>\n",
       "      <td>35.000000</td>\n",
       "      <td>35.000000</td>\n",
       "      <td>35.000000</td>\n",
       "      <td>35.000000</td>\n",
       "      <td>35.0</td>\n",
       "    </tr>\n",
       "    <tr>\n",
       "      <th>mean</th>\n",
       "      <td>162.485714</td>\n",
       "      <td>0.514286</td>\n",
       "      <td>40.914286</td>\n",
       "      <td>86.342857</td>\n",
       "      <td>17.571429</td>\n",
       "      <td>2.0</td>\n",
       "    </tr>\n",
       "    <tr>\n",
       "      <th>std</th>\n",
       "      <td>21.223421</td>\n",
       "      <td>0.507093</td>\n",
       "      <td>11.566614</td>\n",
       "      <td>14.249753</td>\n",
       "      <td>10.353419</td>\n",
       "      <td>0.0</td>\n",
       "    </tr>\n",
       "    <tr>\n",
       "      <th>min</th>\n",
       "      <td>125.000000</td>\n",
       "      <td>0.000000</td>\n",
       "      <td>19.000000</td>\n",
       "      <td>70.000000</td>\n",
       "      <td>1.000000</td>\n",
       "      <td>2.0</td>\n",
       "    </tr>\n",
       "    <tr>\n",
       "      <th>25%</th>\n",
       "      <td>146.000000</td>\n",
       "      <td>0.000000</td>\n",
       "      <td>34.000000</td>\n",
       "      <td>77.000000</td>\n",
       "      <td>10.000000</td>\n",
       "      <td>2.0</td>\n",
       "    </tr>\n",
       "    <tr>\n",
       "      <th>50%</th>\n",
       "      <td>163.000000</td>\n",
       "      <td>1.000000</td>\n",
       "      <td>42.000000</td>\n",
       "      <td>81.000000</td>\n",
       "      <td>16.000000</td>\n",
       "      <td>2.0</td>\n",
       "    </tr>\n",
       "    <tr>\n",
       "      <th>75%</th>\n",
       "      <td>180.000000</td>\n",
       "      <td>1.000000</td>\n",
       "      <td>47.500000</td>\n",
       "      <td>95.000000</td>\n",
       "      <td>25.000000</td>\n",
       "      <td>2.0</td>\n",
       "    </tr>\n",
       "    <tr>\n",
       "      <th>max</th>\n",
       "      <td>197.000000</td>\n",
       "      <td>1.000000</td>\n",
       "      <td>59.000000</td>\n",
       "      <td>126.000000</td>\n",
       "      <td>39.000000</td>\n",
       "      <td>2.0</td>\n",
       "    </tr>\n",
       "  </tbody>\n",
       "</table>\n",
       "</div>"
      ],
      "text/plain": [
       "       CustomerID      Genre        Age  Annual_Income_(k$)  Spending_Score  \\\n",
       "count   35.000000  35.000000  35.000000           35.000000       35.000000   \n",
       "mean   162.485714   0.514286  40.914286           86.342857       17.571429   \n",
       "std     21.223421   0.507093  11.566614           14.249753       10.353419   \n",
       "min    125.000000   0.000000  19.000000           70.000000        1.000000   \n",
       "25%    146.000000   0.000000  34.000000           77.000000       10.000000   \n",
       "50%    163.000000   1.000000  42.000000           81.000000       16.000000   \n",
       "75%    180.000000   1.000000  47.500000           95.000000       25.000000   \n",
       "max    197.000000   1.000000  59.000000          126.000000       39.000000   \n",
       "\n",
       "       Cluster  \n",
       "count     35.0  \n",
       "mean       2.0  \n",
       "std        0.0  \n",
       "min        2.0  \n",
       "25%        2.0  \n",
       "50%        2.0  \n",
       "75%        2.0  \n",
       "max        2.0  "
      ]
     },
     "execution_count": 117,
     "metadata": {},
     "output_type": "execute_result"
    }
   ],
   "source": [
    "df_new[df_new['Cluster']==2].describe()"
   ]
  },
  {
   "cell_type": "markdown",
   "id": "4bc34985",
   "metadata": {},
   "source": [
    "**Interpretation**\n",
    "in the 2nd Cluster  the Avg Annual income is 86.34k$ and their avg SPending score is 17.57\n",
    "and 35 people belong to this category \n"
   ]
  },
  {
   "cell_type": "code",
   "execution_count": 123,
   "id": "8c8852d0",
   "metadata": {},
   "outputs": [
    {
     "data": {
      "text/html": [
       "<div>\n",
       "<style scoped>\n",
       "    .dataframe tbody tr th:only-of-type {\n",
       "        vertical-align: middle;\n",
       "    }\n",
       "\n",
       "    .dataframe tbody tr th {\n",
       "        vertical-align: top;\n",
       "    }\n",
       "\n",
       "    .dataframe thead th {\n",
       "        text-align: right;\n",
       "    }\n",
       "</style>\n",
       "<table border=\"1\" class=\"dataframe\">\n",
       "  <thead>\n",
       "    <tr style=\"text-align: right;\">\n",
       "      <th></th>\n",
       "      <th>CustomerID</th>\n",
       "      <th>Genre</th>\n",
       "      <th>Age</th>\n",
       "      <th>Annual_Income_(k$)</th>\n",
       "      <th>Spending_Score</th>\n",
       "      <th>Cluster</th>\n",
       "    </tr>\n",
       "  </thead>\n",
       "  <tbody>\n",
       "    <tr>\n",
       "      <th>count</th>\n",
       "      <td>38.000000</td>\n",
       "      <td>38.000000</td>\n",
       "      <td>38.000000</td>\n",
       "      <td>38.000000</td>\n",
       "      <td>38.000000</td>\n",
       "      <td>38.0</td>\n",
       "    </tr>\n",
       "    <tr>\n",
       "      <th>mean</th>\n",
       "      <td>161.000000</td>\n",
       "      <td>0.447368</td>\n",
       "      <td>32.763158</td>\n",
       "      <td>85.210526</td>\n",
       "      <td>82.105263</td>\n",
       "      <td>3.0</td>\n",
       "    </tr>\n",
       "    <tr>\n",
       "      <th>std</th>\n",
       "      <td>22.226111</td>\n",
       "      <td>0.503897</td>\n",
       "      <td>3.752003</td>\n",
       "      <td>14.235771</td>\n",
       "      <td>9.489082</td>\n",
       "      <td>0.0</td>\n",
       "    </tr>\n",
       "    <tr>\n",
       "      <th>min</th>\n",
       "      <td>124.000000</td>\n",
       "      <td>0.000000</td>\n",
       "      <td>27.000000</td>\n",
       "      <td>69.000000</td>\n",
       "      <td>63.000000</td>\n",
       "      <td>3.0</td>\n",
       "    </tr>\n",
       "    <tr>\n",
       "      <th>25%</th>\n",
       "      <td>142.500000</td>\n",
       "      <td>0.000000</td>\n",
       "      <td>30.000000</td>\n",
       "      <td>75.250000</td>\n",
       "      <td>74.250000</td>\n",
       "      <td>3.0</td>\n",
       "    </tr>\n",
       "    <tr>\n",
       "      <th>50%</th>\n",
       "      <td>161.000000</td>\n",
       "      <td>0.000000</td>\n",
       "      <td>32.000000</td>\n",
       "      <td>78.500000</td>\n",
       "      <td>84.000000</td>\n",
       "      <td>3.0</td>\n",
       "    </tr>\n",
       "    <tr>\n",
       "      <th>75%</th>\n",
       "      <td>179.500000</td>\n",
       "      <td>1.000000</td>\n",
       "      <td>35.750000</td>\n",
       "      <td>91.750000</td>\n",
       "      <td>90.000000</td>\n",
       "      <td>3.0</td>\n",
       "    </tr>\n",
       "    <tr>\n",
       "      <th>max</th>\n",
       "      <td>198.000000</td>\n",
       "      <td>1.000000</td>\n",
       "      <td>40.000000</td>\n",
       "      <td>126.000000</td>\n",
       "      <td>97.000000</td>\n",
       "      <td>3.0</td>\n",
       "    </tr>\n",
       "  </tbody>\n",
       "</table>\n",
       "</div>"
      ],
      "text/plain": [
       "       CustomerID      Genre        Age  Annual_Income_(k$)  Spending_Score  \\\n",
       "count   38.000000  38.000000  38.000000           38.000000       38.000000   \n",
       "mean   161.000000   0.447368  32.763158           85.210526       82.105263   \n",
       "std     22.226111   0.503897   3.752003           14.235771        9.489082   \n",
       "min    124.000000   0.000000  27.000000           69.000000       63.000000   \n",
       "25%    142.500000   0.000000  30.000000           75.250000       74.250000   \n",
       "50%    161.000000   0.000000  32.000000           78.500000       84.000000   \n",
       "75%    179.500000   1.000000  35.750000           91.750000       90.000000   \n",
       "max    198.000000   1.000000  40.000000          126.000000       97.000000   \n",
       "\n",
       "       Cluster  \n",
       "count     38.0  \n",
       "mean       3.0  \n",
       "std        0.0  \n",
       "min        3.0  \n",
       "25%        3.0  \n",
       "50%        3.0  \n",
       "75%        3.0  \n",
       "max        3.0  "
      ]
     },
     "execution_count": 123,
     "metadata": {},
     "output_type": "execute_result"
    }
   ],
   "source": [
    "df_new[df_new['Cluster']==3].describe()"
   ]
  },
  {
   "cell_type": "markdown",
   "id": "ff73db6b",
   "metadata": {},
   "source": [
    "**Interpretation**\n",
    "in the 3rd Cluster  the Avg Annual income is 85.2k$ and their avg Spending score is 82.36\n",
    "and 38 people belong to this category \n"
   ]
  },
  {
   "cell_type": "code",
   "execution_count": 119,
   "id": "e57cedb0",
   "metadata": {},
   "outputs": [
    {
     "data": {
      "text/html": [
       "<div>\n",
       "<style scoped>\n",
       "    .dataframe tbody tr th:only-of-type {\n",
       "        vertical-align: middle;\n",
       "    }\n",
       "\n",
       "    .dataframe tbody tr th {\n",
       "        vertical-align: top;\n",
       "    }\n",
       "\n",
       "    .dataframe thead th {\n",
       "        text-align: right;\n",
       "    }\n",
       "</style>\n",
       "<table border=\"1\" class=\"dataframe\">\n",
       "  <thead>\n",
       "    <tr style=\"text-align: right;\">\n",
       "      <th></th>\n",
       "      <th>CustomerID</th>\n",
       "      <th>Genre</th>\n",
       "      <th>Age</th>\n",
       "      <th>Annual_Income_(k$)</th>\n",
       "      <th>Spending_Score</th>\n",
       "      <th>Cluster</th>\n",
       "    </tr>\n",
       "  </thead>\n",
       "  <tbody>\n",
       "    <tr>\n",
       "      <th>count</th>\n",
       "      <td>23.00000</td>\n",
       "      <td>23.000000</td>\n",
       "      <td>23.000000</td>\n",
       "      <td>23.000000</td>\n",
       "      <td>23.000000</td>\n",
       "      <td>23.0</td>\n",
       "    </tr>\n",
       "    <tr>\n",
       "      <th>mean</th>\n",
       "      <td>23.00000</td>\n",
       "      <td>0.391304</td>\n",
       "      <td>45.217391</td>\n",
       "      <td>26.304348</td>\n",
       "      <td>20.913043</td>\n",
       "      <td>4.0</td>\n",
       "    </tr>\n",
       "    <tr>\n",
       "      <th>std</th>\n",
       "      <td>13.56466</td>\n",
       "      <td>0.499011</td>\n",
       "      <td>13.228607</td>\n",
       "      <td>7.893811</td>\n",
       "      <td>13.017167</td>\n",
       "      <td>0.0</td>\n",
       "    </tr>\n",
       "    <tr>\n",
       "      <th>min</th>\n",
       "      <td>1.00000</td>\n",
       "      <td>0.000000</td>\n",
       "      <td>19.000000</td>\n",
       "      <td>15.000000</td>\n",
       "      <td>3.000000</td>\n",
       "      <td>4.0</td>\n",
       "    </tr>\n",
       "    <tr>\n",
       "      <th>25%</th>\n",
       "      <td>12.00000</td>\n",
       "      <td>0.000000</td>\n",
       "      <td>35.500000</td>\n",
       "      <td>19.500000</td>\n",
       "      <td>9.500000</td>\n",
       "      <td>4.0</td>\n",
       "    </tr>\n",
       "    <tr>\n",
       "      <th>50%</th>\n",
       "      <td>23.00000</td>\n",
       "      <td>0.000000</td>\n",
       "      <td>46.000000</td>\n",
       "      <td>25.000000</td>\n",
       "      <td>17.000000</td>\n",
       "      <td>4.0</td>\n",
       "    </tr>\n",
       "    <tr>\n",
       "      <th>75%</th>\n",
       "      <td>34.00000</td>\n",
       "      <td>1.000000</td>\n",
       "      <td>53.500000</td>\n",
       "      <td>33.000000</td>\n",
       "      <td>33.500000</td>\n",
       "      <td>4.0</td>\n",
       "    </tr>\n",
       "    <tr>\n",
       "      <th>max</th>\n",
       "      <td>45.00000</td>\n",
       "      <td>1.000000</td>\n",
       "      <td>67.000000</td>\n",
       "      <td>39.000000</td>\n",
       "      <td>40.000000</td>\n",
       "      <td>4.0</td>\n",
       "    </tr>\n",
       "  </tbody>\n",
       "</table>\n",
       "</div>"
      ],
      "text/plain": [
       "       CustomerID      Genre        Age  Annual_Income_(k$)  Spending_Score  \\\n",
       "count    23.00000  23.000000  23.000000           23.000000       23.000000   \n",
       "mean     23.00000   0.391304  45.217391           26.304348       20.913043   \n",
       "std      13.56466   0.499011  13.228607            7.893811       13.017167   \n",
       "min       1.00000   0.000000  19.000000           15.000000        3.000000   \n",
       "25%      12.00000   0.000000  35.500000           19.500000        9.500000   \n",
       "50%      23.00000   0.000000  46.000000           25.000000       17.000000   \n",
       "75%      34.00000   1.000000  53.500000           33.000000       33.500000   \n",
       "max      45.00000   1.000000  67.000000           39.000000       40.000000   \n",
       "\n",
       "       Cluster  \n",
       "count     23.0  \n",
       "mean       4.0  \n",
       "std        0.0  \n",
       "min        4.0  \n",
       "25%        4.0  \n",
       "50%        4.0  \n",
       "75%        4.0  \n",
       "max        4.0  "
      ]
     },
     "execution_count": 119,
     "metadata": {},
     "output_type": "execute_result"
    }
   ],
   "source": [
    "df_new[df_new['Cluster']==4].describe()"
   ]
  },
  {
   "cell_type": "markdown",
   "id": "081e70f8",
   "metadata": {},
   "source": [
    "**Interpretation**\n",
    "in the 4th CLuster  the Avg Annual income is 26.3k$ and their avg Spending score is 20.36\n",
    "and 23 people belong to this category \n"
   ]
  },
  {
   "cell_type": "code",
   "execution_count": 124,
   "id": "01b15c77",
   "metadata": {
    "scrolled": false
   },
   "outputs": [
    {
     "name": "stderr",
     "output_type": "stream",
     "text": [
      "C:\\ProgramData\\Anaconda3\\lib\\site-packages\\seaborn\\regression.py:581: UserWarning: The `size` parameter has been renamed to `height`; please update your code.\n",
      "  warnings.warn(msg, UserWarning)\n"
     ]
    },
    {
     "data": {
      "text/plain": [
       "<Figure size 576x648 with 0 Axes>"
      ]
     },
     "metadata": {},
     "output_type": "display_data"
    },
    {
     "data": {
      "image/png": "[encoded data removed]",
      "text/plain": [
       "<Figure size 763.5x720 with 1 Axes>"
      ]
     },
     "metadata": {
      "needs_background": "light"
     },
     "output_type": "display_data"
    }
   ],
   "source": [
    "# plot the lmplot to visualize the clusters\n",
    "# pass the different markers to display the points in each cluster with different shapes\n",
    "# the 'hue' parameter returns colors for each cluster\n",
    "plt.figure(figsize=(8,9))\n",
    "sns.lmplot(x = 'Spending_Score', y = 'Annual_Income_(k$)', data = df_new, hue = 'Cluster', \n",
    "                markers = ['*', ',', '^', '.', '+'], fit_reg = False, size = 10)\n",
    "\n",
    "# set the axes and plot labels\n",
    "# set the font size using 'fontsize'\n",
    "plt.title('K-means Clustering (for K=5)', fontsize = 15)\n",
    "plt.xlabel('Spending Score', fontsize = 15)\n",
    "plt.ylabel('Annual Income', fontsize = 15)\n",
    "\n",
    "# display the plot\n",
    "plt.show()"
   ]
  },
  {
   "cell_type": "markdown",
   "id": "2bba7612",
   "metadata": {},
   "source": [
    "# BUSINESS INSIGHT\n",
    "* Cluster 3 is the Target Group where they have high income and high Spending Score the marketing Group can target the\n",
    "* CLuster 1 and 2 is the median they have high  Salary as compared to 0 and 4 and spending score is also nice the Marketing   Group can also prefer Them as a target \n",
    "* CLuster 0 and Cluster 4 are almost similar ie both are less as compared to others on the basis of spending score but the   income varies \n"
   ]
  },
  {
   "cell_type": "code",
   "execution_count": null,
   "id": "d79d0a45",
   "metadata": {},
   "outputs": [],
   "source": []
  }
 ],
 "metadata": {
  "kernelspec": {
   "display_name": "Python 3 (ipykernel)",
   "language": "python",
   "name": "python3"
  },
  "language_info": {
   "codemirror_mode": {
    "name": "ipython",
    "version": 3
   },
   "file_extension": ".py",
   "mimetype": "text/x-python",
   "name": "python",
   "nbconvert_exporter": "python",
   "pygments_lexer": "ipython3",
   "version": "3.9.12"
  }
 },
 "nbformat": 4,
 "nbformat_minor": 5
}
